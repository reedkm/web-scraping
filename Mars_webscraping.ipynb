{
 "cells": [
  {
   "cell_type": "code",
   "execution_count": 1,
   "metadata": {},
   "outputs": [],
   "source": [
    "import requests\n",
    "from bs4 import BeautifulSoup\n",
    "import pymongo\n",
    "import pandas as pd\n",
    "import time\n",
    "from selenium import webdriver"
   ]
  },
  {
   "cell_type": "code",
   "execution_count": 2,
   "metadata": {},
   "outputs": [],
   "source": [
    "# Initialize PyMongo to work with MongoDBs\n",
    "conn = 'mongodb://localhost:27017'\n",
    "client = pymongo.MongoClient(conn)"
   ]
  },
  {
   "cell_type": "markdown",
   "metadata": {},
   "source": [
    "# News Article"
   ]
  },
  {
   "cell_type": "code",
   "execution_count": 3,
   "metadata": {},
   "outputs": [],
   "source": [
    "# Define database and collection\n",
    "db = client.mars_db\n",
    "collection = db.articles"
   ]
  },
  {
   "cell_type": "code",
   "execution_count": 4,
   "metadata": {},
   "outputs": [],
   "source": [
    "# URL of page to be scraped\n",
    "url = 'https://mars.nasa.gov/news/'\n",
    "# Base URL for make relative links explicit\n",
    "base_url = 'https://mars.nasa.gov'"
   ]
  },
  {
   "cell_type": "code",
   "execution_count": 5,
   "metadata": {},
   "outputs": [],
   "source": [
    "# Retrieve page with the requests module\n",
    "def render_page(url):\n",
    "    driver = webdriver.Chrome()\n",
    "    driver.get(url)\n",
    "    time.sleep(3)\n",
    "    response = driver.page_source\n",
    "    #driver.quit()\n",
    "    return response"
   ]
  },
  {
   "cell_type": "code",
   "execution_count": 6,
   "metadata": {},
   "outputs": [],
   "source": [
    "response = render_page(url)"
   ]
  },
  {
   "cell_type": "code",
   "execution_count": 7,
   "metadata": {},
   "outputs": [],
   "source": [
    "soup = BeautifulSoup(response, \"html.parser\")\n",
    "#print(soup.prettify())"
   ]
  },
  {
   "cell_type": "code",
   "execution_count": 8,
   "metadata": {},
   "outputs": [
    {
     "data": {
      "text/plain": [
       "<pymongo.results.InsertOneResult at 0x11135a348>"
      ]
     },
     "execution_count": 8,
     "metadata": {},
     "output_type": "execute_result"
    }
   ],
   "source": [
    "# Retrieve latest news article\n",
    "news = soup.find('li', class_='slide')\n",
    "\n",
    "title = news.find('div', class_='content_title').text\n",
    "# Identify and return title\n",
    "date = news.find('div', class_='list_date').text\n",
    "# Identify and return link\n",
    "link = news.a['href']\n",
    "# Identify and return teaser text\n",
    "text = news.find('div', class_='article_teaser_body').text\n",
    "   \n",
    "# Concat URL\n",
    "concatURL = base_url + link\n",
    "\n",
    "# Dictionary to be inserted as a MongoDB document\n",
    "article = {\n",
    "    'title': title,\n",
    "    'date': date,\n",
    "    'url': concatURL,\n",
    "    'teaser': text\n",
    "}\n",
    "\n",
    "collection.insert_one(article)"
   ]
  },
  {
   "cell_type": "markdown",
   "metadata": {},
   "source": [
    "# Feature Image"
   ]
  },
  {
   "cell_type": "code",
   "execution_count": 9,
   "metadata": {},
   "outputs": [],
   "source": [
    "# Define database and collection\n",
    "db = client.mars_db\n",
    "collection = db.images"
   ]
  },
  {
   "cell_type": "code",
   "execution_count": 10,
   "metadata": {},
   "outputs": [],
   "source": [
    "# URL of page to be scraped\n",
    "image_url = 'https://www.jpl.nasa.gov/spaceimages/?search=&category=Mars'\n",
    "# Base URL for make relative links explicit\n",
    "image_base_url = 'https://www.jpl.nasa.gov'"
   ]
  },
  {
   "cell_type": "code",
   "execution_count": 11,
   "metadata": {},
   "outputs": [],
   "source": [
    "# Retrieve page with the requests module\n",
    "def render_page(image_url):\n",
    "    driver = webdriver.Chrome()\n",
    "    driver.get(image_url)\n",
    "    time.sleep(3)\n",
    "    image_response = driver.page_source\n",
    "    #driver.quit()\n",
    "    return image_response"
   ]
  },
  {
   "cell_type": "code",
   "execution_count": 12,
   "metadata": {},
   "outputs": [],
   "source": [
    "image_response = render_page(image_url)"
   ]
  },
  {
   "cell_type": "code",
   "execution_count": 13,
   "metadata": {},
   "outputs": [],
   "source": [
    "image_soup = BeautifulSoup(image_response, \"html.parser\")\n",
    "#print(image_soup.prettify())"
   ]
  },
  {
   "cell_type": "code",
   "execution_count": 14,
   "metadata": {},
   "outputs": [
    {
     "data": {
      "text/plain": [
       "<pymongo.results.InsertOneResult at 0x111364188>"
      ]
     },
     "execution_count": 14,
     "metadata": {},
     "output_type": "execute_result"
    }
   ],
   "source": [
    "# Retrieve image result\n",
    "image_results = image_soup.find('footer')\n",
    "\n",
    "# Identify and return image title\n",
    "img_title = image_results.a['data-title']\n",
    "# Identify and return image src\n",
    "img_link = image_results.a['data-fancybox-href']\n",
    "     \n",
    "# Concat URL\n",
    "imageURL = image_base_url + img_link\n",
    "\n",
    "# Dictionary to be inserted as a MongoDB document\n",
    "image = {\n",
    "    'imgTitle': img_title,\n",
    "    'imgSrc': imageURL\n",
    "}\n",
    "\n",
    "collection.insert_one(image)"
   ]
  },
  {
   "cell_type": "markdown",
   "metadata": {},
   "source": [
    "# Current Weather"
   ]
  },
  {
   "cell_type": "code",
   "execution_count": 15,
   "metadata": {},
   "outputs": [],
   "source": [
    "# Define database and collection\n",
    "db = client.mars_db\n",
    "collection = db.weather"
   ]
  },
  {
   "cell_type": "code",
   "execution_count": 16,
   "metadata": {},
   "outputs": [],
   "source": [
    "# URL of page to be scraped\n",
    "weather_url = 'https://twitter.com/marswxreport?lang=en'"
   ]
  },
  {
   "cell_type": "code",
   "execution_count": 17,
   "metadata": {},
   "outputs": [],
   "source": [
    "# Retrieve page with the requests module\n",
    "def render_page(weather_url):\n",
    "    driver = webdriver.Chrome()\n",
    "    driver.get(weather_url)\n",
    "    time.sleep(3)\n",
    "    weather_response = driver.page_source\n",
    "    #driver.quit()\n",
    "    return weather_response"
   ]
  },
  {
   "cell_type": "code",
   "execution_count": 18,
   "metadata": {},
   "outputs": [],
   "source": [
    "weather_response = render_page(weather_url)"
   ]
  },
  {
   "cell_type": "code",
   "execution_count": 19,
   "metadata": {},
   "outputs": [],
   "source": [
    "weathersoup = BeautifulSoup(weather_response, \"html.parser\")\n",
    "#print(weathersoup.prettify())"
   ]
  },
  {
   "cell_type": "code",
   "execution_count": 20,
   "metadata": {},
   "outputs": [
    {
     "data": {
      "text/plain": [
       "<pymongo.results.InsertOneResult at 0x1126cc3c8>"
      ]
     },
     "execution_count": 20,
     "metadata": {},
     "output_type": "execute_result"
    }
   ],
   "source": [
    "# Get Current Weather\n",
    "weather = weathersoup.find('div', class_='js-tweet-text-container')\n",
    "\n",
    "mars_weather = weathersoup.find('p', class_='tweet-text').text\n",
    "\n",
    "# Dictionary to be inserted as a MongoDB document\n",
    "weather = {\n",
    "    'weather': mars_weather\n",
    "}\n",
    "\n",
    "collection.insert_one(weather)"
   ]
  },
  {
   "cell_type": "markdown",
   "metadata": {},
   "source": [
    "# Mars Facts"
   ]
  },
  {
   "cell_type": "code",
   "execution_count": 21,
   "metadata": {},
   "outputs": [],
   "source": [
    "# URL of page to be scraped\n",
    "facts_url = 'http://space-facts.com/mars/'"
   ]
  },
  {
   "cell_type": "code",
   "execution_count": 22,
   "metadata": {},
   "outputs": [],
   "source": [
    "# Retrieve page with the requests module\n",
    "def render_page(facts_url):\n",
    "    driver = webdriver.Chrome()\n",
    "    driver.get(facts_url)\n",
    "    time.sleep(3)\n",
    "    facts_response = driver.page_source\n",
    "    #driver.quit()\n",
    "    return facts_response"
   ]
  },
  {
   "cell_type": "code",
   "execution_count": 23,
   "metadata": {},
   "outputs": [],
   "source": [
    "facts_response = render_page(facts_url)"
   ]
  },
  {
   "cell_type": "code",
   "execution_count": 24,
   "metadata": {},
   "outputs": [],
   "source": [
    "facts_soup = BeautifulSoup(facts_response, \"html.parser\")\n",
    "#print(facts_soup.prettify())"
   ]
  },
  {
   "cell_type": "code",
   "execution_count": 25,
   "metadata": {},
   "outputs": [
    {
     "data": {
      "text/plain": [
       "[                      0                              1\n",
       " 0  Equatorial Diameter:                       6,792 km\n",
       " 1       Polar Diameter:                       6,752 km\n",
       " 2                 Mass:  6.42 x 10^23 kg (10.7% Earth)\n",
       " 3                Moons:            2 (Phobos & Deimos)\n",
       " 4       Orbit Distance:       227,943,824 km (1.52 AU)\n",
       " 5         Orbit Period:           687 days (1.9 years)\n",
       " 6  Surface Temperature:                  -153 to 20 °C\n",
       " 7         First Record:              2nd millennium BC\n",
       " 8          Recorded By:           Egyptian astronomers]"
      ]
     },
     "execution_count": 25,
     "metadata": {},
     "output_type": "execute_result"
    }
   ],
   "source": [
    "tables = pd.read_html(facts_url)\n",
    "tables"
   ]
  },
  {
   "cell_type": "code",
   "execution_count": 26,
   "metadata": {},
   "outputs": [
    {
     "data": {
      "text/html": [
       "<div>\n",
       "<style scoped>\n",
       "    .dataframe tbody tr th:only-of-type {\n",
       "        vertical-align: middle;\n",
       "    }\n",
       "\n",
       "    .dataframe tbody tr th {\n",
       "        vertical-align: top;\n",
       "    }\n",
       "\n",
       "    .dataframe thead th {\n",
       "        text-align: right;\n",
       "    }\n",
       "</style>\n",
       "<table border=\"1\" class=\"dataframe\">\n",
       "  <thead>\n",
       "    <tr style=\"text-align: right;\">\n",
       "      <th></th>\n",
       "      <th>Description</th>\n",
       "      <th>Value</th>\n",
       "    </tr>\n",
       "  </thead>\n",
       "  <tbody>\n",
       "    <tr>\n",
       "      <th>0</th>\n",
       "      <td>Equatorial Diameter:</td>\n",
       "      <td>6,792 km</td>\n",
       "    </tr>\n",
       "    <tr>\n",
       "      <th>1</th>\n",
       "      <td>Polar Diameter:</td>\n",
       "      <td>6,752 km</td>\n",
       "    </tr>\n",
       "    <tr>\n",
       "      <th>2</th>\n",
       "      <td>Mass:</td>\n",
       "      <td>6.42 x 10^23 kg (10.7% Earth)</td>\n",
       "    </tr>\n",
       "    <tr>\n",
       "      <th>3</th>\n",
       "      <td>Moons:</td>\n",
       "      <td>2 (Phobos &amp; Deimos)</td>\n",
       "    </tr>\n",
       "    <tr>\n",
       "      <th>4</th>\n",
       "      <td>Orbit Distance:</td>\n",
       "      <td>227,943,824 km (1.52 AU)</td>\n",
       "    </tr>\n",
       "    <tr>\n",
       "      <th>5</th>\n",
       "      <td>Orbit Period:</td>\n",
       "      <td>687 days (1.9 years)</td>\n",
       "    </tr>\n",
       "    <tr>\n",
       "      <th>6</th>\n",
       "      <td>Surface Temperature:</td>\n",
       "      <td>-153 to 20 °C</td>\n",
       "    </tr>\n",
       "    <tr>\n",
       "      <th>7</th>\n",
       "      <td>First Record:</td>\n",
       "      <td>2nd millennium BC</td>\n",
       "    </tr>\n",
       "    <tr>\n",
       "      <th>8</th>\n",
       "      <td>Recorded By:</td>\n",
       "      <td>Egyptian astronomers</td>\n",
       "    </tr>\n",
       "  </tbody>\n",
       "</table>\n",
       "</div>"
      ],
      "text/plain": [
       "            Description                          Value\n",
       "0  Equatorial Diameter:                       6,792 km\n",
       "1       Polar Diameter:                       6,752 km\n",
       "2                 Mass:  6.42 x 10^23 kg (10.7% Earth)\n",
       "3                Moons:            2 (Phobos & Deimos)\n",
       "4       Orbit Distance:       227,943,824 km (1.52 AU)\n",
       "5         Orbit Period:           687 days (1.9 years)\n",
       "6  Surface Temperature:                  -153 to 20 °C\n",
       "7         First Record:              2nd millennium BC\n",
       "8          Recorded By:           Egyptian astronomers"
      ]
     },
     "execution_count": 26,
     "metadata": {},
     "output_type": "execute_result"
    }
   ],
   "source": [
    "table_df = tables[0]\n",
    "table_df.columns = ['Description', 'Value']\n",
    "table_df.reset_index(drop = True)\n",
    "table_df"
   ]
  },
  {
   "cell_type": "code",
   "execution_count": 27,
   "metadata": {},
   "outputs": [],
   "source": [
    "table_df.to_html('table.html')"
   ]
  },
  {
   "cell_type": "markdown",
   "metadata": {},
   "source": [
    "# Hemispheres"
   ]
  },
  {
   "cell_type": "code",
   "execution_count": 28,
   "metadata": {},
   "outputs": [],
   "source": [
    "# URL of page to be scraped\n",
    "cerb_url = 'https://astrogeology.usgs.gov/search/map/Mars/Viking/cerberus_enhanced'\n",
    "\n",
    "# Retrieve page with the requests module\n",
    "def render_page(cerb_url):\n",
    "    driver = webdriver.Chrome()\n",
    "    driver.get(cerb_url)\n",
    "    time.sleep(3)\n",
    "    cerb_response = driver.page_source\n",
    "    #driver.quit()\n",
    "    return cerb_response\n",
    "    \n",
    "cerb_response = render_page(cerb_url)\n",
    "\n",
    "cerb_soup = BeautifulSoup(cerb_response, \"html.parser\")\n",
    "#print(cerb_soup.prettify())"
   ]
  },
  {
   "cell_type": "code",
   "execution_count": 29,
   "metadata": {},
   "outputs": [],
   "source": [
    "# Retrieve hemisphere info\n",
    "cerberus = cerb_soup.find('div', class_='wide-image-wrapper')\n",
    "# Retrieve hemisphere title\n",
    "cerb_title = cerb_soup.find('h2', class_='title').text\n",
    "# Identify and return image src\n",
    "cerb_link = cerb_soup.a['href']\n"
   ]
  },
  {
   "cell_type": "code",
   "execution_count": null,
   "metadata": {},
   "outputs": [],
   "source": [
    "\n",
    "\n"
   ]
  },
  {
   "cell_type": "code",
   "execution_count": 30,
   "metadata": {},
   "outputs": [],
   "source": [
    "# URL of page to be scraped\n",
    "schia_url = 'https://astrogeology.usgs.gov/search/map/Mars/Viking/schiaparelli_enhanced'\n",
    "\n",
    "# Retrieve page with the requests module\n",
    "def render_page(schia_url):\n",
    "    driver = webdriver.Chrome()\n",
    "    driver.get(schia_url)\n",
    "    time.sleep(3)\n",
    "    schia_response = driver.page_source\n",
    "    #driver.quit()\n",
    "    return schia_response\n",
    "    \n",
    "schia_response = render_page(schia_url)\n",
    "\n",
    "schia_soup = BeautifulSoup(schia_response, \"html.parser\")\n",
    "#print(schia_soup.prettify())"
   ]
  },
  {
   "cell_type": "code",
   "execution_count": 31,
   "metadata": {},
   "outputs": [],
   "source": [
    "# Retrieve hemisphere info\n",
    "schiaparelli = schia_soup.find('div', class_='wide-image-wrapper')\n",
    "# Retrieve hemisphere title\n",
    "schia_title = schia_soup.find('h2', class_='title').text\n",
    "# Identify and return image src\n",
    "schia_link = schia_soup.a['href']"
   ]
  },
  {
   "cell_type": "code",
   "execution_count": 32,
   "metadata": {},
   "outputs": [],
   "source": [
    "# URL of page to be scraped\n",
    "syrtis_url = 'https://astrogeology.usgs.gov/search/map/Mars/Viking/syrtis_major_enhanced'\n",
    "\n",
    "# Retrieve page with the requests module\n",
    "def render_page(syrtis_url):\n",
    "    driver = webdriver.Chrome()\n",
    "    driver.get(syrtis_url)\n",
    "    time.sleep(3)\n",
    "    syrtis_response = driver.page_source\n",
    "    #driver.quit()\n",
    "    return syrtis_response\n",
    "    \n",
    "syrtis_response = render_page(syrtis_url)\n",
    "\n",
    "syrtis_soup = BeautifulSoup(syrtis_response, \"html.parser\")\n",
    "#print(cerb_soup.prettify())"
   ]
  },
  {
   "cell_type": "code",
   "execution_count": 33,
   "metadata": {},
   "outputs": [],
   "source": [
    "# Retrieve hemisphere info\n",
    "syrtis = syrtis_soup.find('div', class_='wide-image-wrapper')\n",
    "# Retrieve hemisphere title\n",
    "syrtis_title = syrtis_soup.find('h2', class_='title').text\n",
    "# Identify and return image src\n",
    "syrtis_link = syrtis_soup.a['href']"
   ]
  },
  {
   "cell_type": "code",
   "execution_count": 34,
   "metadata": {},
   "outputs": [],
   "source": [
    "# URL of page to be scraped\n",
    "valles_url = 'https://astrogeology.usgs.gov/search/map/Mars/Viking/valles_marineris_enhanced'\n",
    "\n",
    "# Retrieve page with the requests module\n",
    "def render_page(valles_url):\n",
    "    driver = webdriver.Chrome()\n",
    "    driver.get(valles_url)\n",
    "    time.sleep(3)\n",
    "    cerb_response = driver.page_source\n",
    "    #driver.quit()\n",
    "    return cerb_response\n",
    "    \n",
    "valles_response = render_page(valles_url)\n",
    "\n",
    "valles_soup = BeautifulSoup(valles_response, \"html.parser\")\n",
    "#print(cerb_soup.prettify())"
   ]
  },
  {
   "cell_type": "code",
   "execution_count": 35,
   "metadata": {},
   "outputs": [],
   "source": [
    "# Retrieve hemisphere info\n",
    "valles = valles_soup.find('div', class_='wide-image-wrapper')\n",
    "# Retrieve hemisphere title\n",
    "valles_title = valles_soup.find('h2', class_='title').text\n",
    "# Identify and return image src\n",
    "valles_link = valles_soup.a['href']"
   ]
  },
  {
   "cell_type": "markdown",
   "metadata": {},
   "source": [
    "# Query MongoDB"
   ]
  },
  {
   "cell_type": "code",
   "execution_count": 36,
   "metadata": {},
   "outputs": [
    {
     "name": "stdout",
     "output_type": "stream",
     "text": [
      "{'_id': ObjectId('5be60e01755db92b97adbbcd'), 'title': 'Curiosity on the Move Again', 'date': 'November  6, 2018', 'url': 'https://mars.nasa.gov/news/8371/curiosity-on-the-move-again/', 'teaser': \"NASA's Mars Curiosity rover drove about 197 feet over the weekend to a site called Lake Orcadie, pushing its total odometry to over 12 miles.\"}\n"
     ]
    }
   ],
   "source": [
    "# Display news article in MongoDB collection\n",
    "articles = db.articles.find()\n",
    "\n",
    "for article in articles:\n",
    "    print(article)"
   ]
  },
  {
   "cell_type": "code",
   "execution_count": 37,
   "metadata": {},
   "outputs": [
    {
     "name": "stdout",
     "output_type": "stream",
     "text": [
      "{'_id': ObjectId('5be60e09755db92b97adbbce'), 'imgTitle': 'A Ring of Color', 'imgSrc': 'https://www.jpl.nasa.gov/spaceimages/images/mediumsize/PIA14924_ip.jpg'}\n"
     ]
    }
   ],
   "source": [
    "# Display featured image in MongoDB collection\n",
    "images = db.images.find()\n",
    "\n",
    "for image in images:\n",
    "    print(image)"
   ]
  },
  {
   "cell_type": "code",
   "execution_count": 38,
   "metadata": {},
   "outputs": [
    {
     "name": "stdout",
     "output_type": "stream",
     "text": [
      "{'_id': ObjectId('5be60e10755db92b97adbbcf'), 'weather': 'Sol 2223 (2018-11-07), high 2C/35F, low -64C/-83F, pressure at 8.50 hPa, daylight 06:18-18:35'}\n"
     ]
    }
   ],
   "source": [
    "# Display current weather in MongoDB collection\n",
    "weather = db.weather.find()\n",
    "\n",
    "for weather in weather:\n",
    "    print(weather)"
   ]
  }
 ],
 "metadata": {
  "kernelspec": {
   "display_name": "Python 3",
   "language": "python",
   "name": "python3"
  },
  "language_info": {
   "codemirror_mode": {
    "name": "ipython",
    "version": 3
   },
   "file_extension": ".py",
   "mimetype": "text/x-python",
   "name": "python",
   "nbconvert_exporter": "python",
   "pygments_lexer": "ipython3",
   "version": "3.6.5"
  }
 },
 "nbformat": 4,
 "nbformat_minor": 2
}
