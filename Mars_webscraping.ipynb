{
 "cells": [
  {
   "cell_type": "code",
   "execution_count": 1,
   "metadata": {},
   "outputs": [],
   "source": [
    "import requests\n",
    "from bs4 import BeautifulSoup\n",
    "import pymongo\n",
    "import time\n",
    "from selenium import webdriver"
   ]
  },
  {
   "cell_type": "code",
   "execution_count": 2,
   "metadata": {},
   "outputs": [],
   "source": [
    "# Initialize PyMongo to work with MongoDBs\n",
    "conn = 'mongodb://localhost:27017'\n",
    "client = pymongo.MongoClient(conn)"
   ]
  },
  {
   "cell_type": "markdown",
   "metadata": {},
   "source": [
    "# News Article"
   ]
  },
  {
   "cell_type": "code",
   "execution_count": 3,
   "metadata": {},
   "outputs": [],
   "source": [
    "# Define database and collection\n",
    "db = client.mars_db\n",
    "collection = db.articles"
   ]
  },
  {
   "cell_type": "code",
   "execution_count": 4,
   "metadata": {},
   "outputs": [],
   "source": [
    "# URL of page to be scraped\n",
    "url = 'https://mars.nasa.gov/news/'\n",
    "# Base URL for make relative links explicit\n",
    "base_url = 'https://mars.nasa.gov'"
   ]
  },
  {
   "cell_type": "code",
   "execution_count": 5,
   "metadata": {},
   "outputs": [],
   "source": [
    "# Retrieve page with the requests module\n",
    "def render_page(url):\n",
    "    driver = webdriver.Chrome()\n",
    "    driver.get(url)\n",
    "    time.sleep(3)\n",
    "    response = driver.page_source\n",
    "    #driver.quit()\n",
    "    return response"
   ]
  },
  {
   "cell_type": "code",
   "execution_count": 6,
   "metadata": {},
   "outputs": [],
   "source": [
    "response = render_page(url)"
   ]
  },
  {
   "cell_type": "code",
   "execution_count": 7,
   "metadata": {},
   "outputs": [],
   "source": [
    "soup = BeautifulSoup(response, \"html.parser\")\n",
    "#print(soup.prettify())"
   ]
  },
  {
   "cell_type": "code",
   "execution_count": 8,
   "metadata": {},
   "outputs": [
    {
     "data": {
      "text/plain": [
       "<pymongo.results.InsertOneResult at 0x112470088>"
      ]
     },
     "execution_count": 8,
     "metadata": {},
     "output_type": "execute_result"
    }
   ],
   "source": [
    "# Retrieve latest news article\n",
    "news = soup.find('li', class_='slide')\n",
    "\n",
    "title = news.find('div', class_='content_title').text\n",
    "# Identify and return title\n",
    "date = news.find('div', class_='list_date').text\n",
    "# Identify and return link\n",
    "link = news.a['href']\n",
    "# Identify and return teaser text\n",
    "text = news.find('div', class_='article_teaser_body').text\n",
    "   \n",
    "# Concat URL\n",
    "concatURL = base_url + link\n",
    "\n",
    "# Dictionary to be inserted as a MongoDB document\n",
    "article = {\n",
    "    'title': title,\n",
    "    'date': date,\n",
    "    'url': concatURL,\n",
    "    'teaser': text\n",
    "}\n",
    "\n",
    "collection.insert_one(article)"
   ]
  },
  {
   "cell_type": "markdown",
   "metadata": {},
   "source": [
    "# Feature Image"
   ]
  },
  {
   "cell_type": "code",
   "execution_count": 9,
   "metadata": {},
   "outputs": [],
   "source": [
    "# Define database and collection\n",
    "db = client.mars_db\n",
    "collection = db.images"
   ]
  },
  {
   "cell_type": "code",
   "execution_count": 10,
   "metadata": {},
   "outputs": [],
   "source": [
    "# URL of page to be scraped\n",
    "image_url = 'https://www.jpl.nasa.gov/spaceimages/?search=&category=Mars'\n",
    "# Base URL for make relative links explicit\n",
    "image_base_url = 'https://www.jpl.nasa.gov'"
   ]
  },
  {
   "cell_type": "code",
   "execution_count": 11,
   "metadata": {},
   "outputs": [],
   "source": [
    "# Retrieve page with the requests module\n",
    "def render_page(image_url):\n",
    "    driver = webdriver.Chrome()\n",
    "    driver.get(image_url)\n",
    "    time.sleep(3)\n",
    "    image_response = driver.page_source\n",
    "    #driver.quit()\n",
    "    return image_response"
   ]
  },
  {
   "cell_type": "code",
   "execution_count": 12,
   "metadata": {},
   "outputs": [],
   "source": [
    "image_response = render_page(image_url)"
   ]
  },
  {
   "cell_type": "code",
   "execution_count": 13,
   "metadata": {},
   "outputs": [],
   "source": [
    "image_soup = BeautifulSoup(image_response, \"html.parser\")\n",
    "#print(image_soup.prettify())"
   ]
  },
  {
   "cell_type": "code",
   "execution_count": 14,
   "metadata": {},
   "outputs": [
    {
     "data": {
      "text/plain": [
       "<pymongo.results.InsertOneResult at 0x1138acac8>"
      ]
     },
     "execution_count": 14,
     "metadata": {},
     "output_type": "execute_result"
    }
   ],
   "source": [
    "# Retrieve image result\n",
    "image_results = image_soup.find('footer')\n",
    "\n",
    "# Identify and return image title\n",
    "img_title = image_results.a['data-title']\n",
    "# Identify and return image src\n",
    "img_link = image_results.a['data-fancybox-href']\n",
    "     \n",
    "# Concat URL\n",
    "imageURL = image_base_url + img_link\n",
    "\n",
    "# Dictionary to be inserted as a MongoDB document\n",
    "image = {\n",
    "    'imgTitle': img_title,\n",
    "    'imgSrc': imageURL\n",
    "}\n",
    "\n",
    "collection.insert_one(image)"
   ]
  },
  {
   "cell_type": "markdown",
   "metadata": {},
   "source": [
    "# Current Weather"
   ]
  },
  {
   "cell_type": "code",
   "execution_count": 15,
   "metadata": {},
   "outputs": [],
   "source": [
    "# Define database and collection\n",
    "db = client.mars_db\n",
    "collection = db.weather"
   ]
  },
  {
   "cell_type": "code",
   "execution_count": 16,
   "metadata": {},
   "outputs": [],
   "source": [
    "# URL of page to be scraped\n",
    "weather_url = 'https://twitter.com/marswxreport?lang=en'"
   ]
  },
  {
   "cell_type": "code",
   "execution_count": 17,
   "metadata": {},
   "outputs": [],
   "source": [
    "# Retrieve page with the requests module\n",
    "def render_page(weather_url):\n",
    "    driver = webdriver.Chrome()\n",
    "    driver.get(weather_url)\n",
    "    time.sleep(3)\n",
    "    weather_response = driver.page_source\n",
    "    #driver.quit()\n",
    "    return weather_response"
   ]
  },
  {
   "cell_type": "code",
   "execution_count": 18,
   "metadata": {},
   "outputs": [],
   "source": [
    "weather_response = render_page(weather_url)"
   ]
  },
  {
   "cell_type": "code",
   "execution_count": 19,
   "metadata": {},
   "outputs": [],
   "source": [
    "weathersoup = BeautifulSoup(weather_response, \"html.parser\")\n",
    "#print(weathersoup.prettify())"
   ]
  },
  {
   "cell_type": "code",
   "execution_count": 20,
   "metadata": {},
   "outputs": [
    {
     "data": {
      "text/plain": [
       "<pymongo.results.InsertOneResult at 0x113896108>"
      ]
     },
     "execution_count": 20,
     "metadata": {},
     "output_type": "execute_result"
    }
   ],
   "source": [
    "# Get Current Weather\n",
    "weather = weathersoup.find('div', class_='js-tweet-text-container')\n",
    "\n",
    "mars_weather = weathersoup.find('p', class_='tweet-text').text\n",
    "\n",
    "# Dictionary to be inserted as a MongoDB document\n",
    "weather = {\n",
    "    'weather': mars_weather\n",
    "}\n",
    "\n",
    "collection.insert_one(weather)"
   ]
  },
  {
   "cell_type": "markdown",
   "metadata": {},
   "source": [
    "# Query MongoDB"
   ]
  },
  {
   "cell_type": "code",
   "execution_count": 21,
   "metadata": {},
   "outputs": [
    {
     "name": "stdout",
     "output_type": "stream",
     "text": [
      "{'_id': ObjectId('5be5f4ef755db92546e34d73'), 'title': 'Curiosity on the Move Again', 'date': 'November  6, 2018', 'url': 'https://mars.nasa.gov/news/8371/curiosity-on-the-move-again/', 'teaser': \"NASA's Mars Curiosity rover drove about 197 feet over the weekend to a site called Lake Orcadie, pushing its total odometry to over 12 miles.\"}\n"
     ]
    }
   ],
   "source": [
    "# Display news article in MongoDB collection\n",
    "articles = db.articles.find()\n",
    "\n",
    "for article in articles:\n",
    "    print(article)"
   ]
  },
  {
   "cell_type": "code",
   "execution_count": 22,
   "metadata": {},
   "outputs": [
    {
     "name": "stdout",
     "output_type": "stream",
     "text": [
      "{'_id': ObjectId('5be5f4f6755db92546e34d74'), 'imgTitle': \"NASA's Orbiting Carbon Observatory (OCO)-2 (Artist Concept)\", 'imgSrc': 'https://www.jpl.nasa.gov/spaceimages/images/mediumsize/PIA17896_ip.jpg'}\n"
     ]
    }
   ],
   "source": [
    "# Display featured image in MongoDB collection\n",
    "images = db.images.find()\n",
    "\n",
    "for image in images:\n",
    "    print(image)"
   ]
  },
  {
   "cell_type": "code",
   "execution_count": 23,
   "metadata": {},
   "outputs": [
    {
     "name": "stdout",
     "output_type": "stream",
     "text": [
      "{'_id': ObjectId('5be5f503755db92546e34d75'), 'weather': 'Sol 2223 (2018-11-07), high 2C/35F, low -64C/-83F, pressure at 8.50 hPa, daylight 06:18-18:35'}\n"
     ]
    }
   ],
   "source": [
    "# Display current weather in MongoDB collection\n",
    "weather = db.weather.find()\n",
    "\n",
    "for weather in weather:\n",
    "    print(weather)"
   ]
  }
 ],
 "metadata": {
  "kernelspec": {
   "display_name": "Python 3",
   "language": "python",
   "name": "python3"
  },
  "language_info": {
   "codemirror_mode": {
    "name": "ipython",
    "version": 3
   },
   "file_extension": ".py",
   "mimetype": "text/x-python",
   "name": "python",
   "nbconvert_exporter": "python",
   "pygments_lexer": "ipython3",
   "version": "3.6.5"
  }
 },
 "nbformat": 4,
 "nbformat_minor": 2
}
